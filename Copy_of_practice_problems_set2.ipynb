{
  "nbformat": 4,
  "nbformat_minor": 0,
  "metadata": {
    "colab": {
      "provenance": []
    },
    "kernelspec": {
      "name": "python3",
      "display_name": "Python 3"
    },
    "language_info": {
      "name": "python"
    }
  },
  "cells": [
    {
      "cell_type": "markdown",
      "source": [],
      "metadata": {
        "id": "QLgvOeXOZ0tu"
      }
    },
    {
      "cell_type": "markdown",
      "source": [
        "1"
      ],
      "metadata": {
        "id": "6ebBu0YiZ676"
      }
    },
    {
      "cell_type": "code",
      "source": [
        "input_string = input(\"Enter a string: \")\n",
        "\n",
        "# Creating a dictionary to store character counts\n",
        "char_count = {}\n",
        "\n",
        "# Counting each character in the string\n",
        "for char in input_string:\n",
        "    char_count[char] = char_count.get(char, 0) + 1\n",
        "\n",
        "# Displaying the count of each character\n",
        "for char, count in char_count.items():\n",
        "    print(f\"{char}={count}\", end=', ')"
      ],
      "metadata": {
        "colab": {
          "base_uri": "https://localhost:8080/"
        },
        "id": "bUqAdHycaAVa",
        "outputId": "886758e6-42a6-488d-e00a-7179f8bf94ea"
      },
      "execution_count": null,
      "outputs": [
        {
          "output_type": "stream",
          "name": "stdout",
          "text": [
            "Enter a string value: assembly\n",
            "a=1, s=2, e=1, m=1, b=1, l=1, y=1, "
          ]
        }
      ]
    },
    {
      "cell_type": "markdown",
      "source": [
        "2"
      ],
      "metadata": {
        "id": "kOBne0MkaKep"
      }
    },
    {
      "cell_type": "code",
      "source": [
        "def find_maximum(num1, num2, num3):\n",
        "    return max(num1, num2, num3)\n",
        "number1 = float(input(\"Enter the first number: \"))\n",
        "number2 = float(input(\"Enter the second number: \"))\n",
        "number3 = float(input(\"Enter the third number: \"))\n",
        "\n",
        "maximum_number = find_maximum(number1, number2, number3)\n",
        "print(\"The maximum of the three numbers is:\", maximum_number)"
      ],
      "metadata": {
        "colab": {
          "base_uri": "https://localhost:8080/"
        },
        "id": "MVNZKbAPaLNA",
        "outputId": "6f13c8d8-0991-4103-9ced-516d33b9827a"
      },
      "execution_count": null,
      "outputs": [
        {
          "output_type": "stream",
          "name": "stdout",
          "text": [
            "Enter the first number: 34\n",
            "Enter the second number: 12\n",
            "Enter the third number: 7\n",
            "The maximum of the three numbers is: 34.0\n"
          ]
        }
      ]
    },
    {
      "cell_type": "markdown",
      "source": [
        "3"
      ],
      "metadata": {
        "id": "hTbUtCPEa3C8"
      }
    },
    {
      "cell_type": "code",
      "source": [
        "def exponent(base, exp):\n",
        "    result = base ** exp\n",
        "    return result\n",
        "\n",
        "\n",
        "base_value = float(input(\"Enter the base: \"))\n",
        "exponent_value = float(input(\"Enter the exponent: \"))\n",
        "\n",
        "result = exponent(base_value, exponent_value)\n",
        "print(result)"
      ],
      "metadata": {
        "colab": {
          "base_uri": "https://localhost:8080/"
        },
        "id": "fFzmYQLla4MS",
        "outputId": "e245ce59-d4a3-44b6-cbd0-908fd9eee391"
      },
      "execution_count": null,
      "outputs": [
        {
          "output_type": "stream",
          "name": "stdout",
          "text": [
            "Enter the base: 2\n",
            "Enter the exponent: 3\n",
            "8.0\n"
          ]
        }
      ]
    },
    {
      "cell_type": "markdown",
      "source": [
        "4"
      ],
      "metadata": {
        "id": "bDuDTsTybrX6"
      }
    },
    {
      "cell_type": "code",
      "source": [
        "def sum_of_cubes(n):\n",
        "    if n <= 0:\n",
        "        return \"Please enter a positive integer.\"\n",
        "\n",
        "\n",
        "    sum_cubes = 0\n",
        "\n",
        "    for i in range(1, n):\n",
        "        sum_cubes += i ** 3\n",
        "\n",
        "    return sum_cubes\n",
        "\n",
        "num = int(input(\"Enter a positive integer: \"))\n",
        "result = sum_of_cubes(num)\n",
        "print(\"Sum of cubes:\", result)"
      ],
      "metadata": {
        "colab": {
          "base_uri": "https://localhost:8080/"
        },
        "id": "SoN3dZkZbsMC",
        "outputId": "df2373a8-cfcf-4f63-a777-09a220f4c223"
      },
      "execution_count": null,
      "outputs": [
        {
          "output_type": "stream",
          "name": "stdout",
          "text": [
            "Enter a positive integer: 4\n",
            "Sum of cubes: 36\n"
          ]
        }
      ]
    },
    {
      "cell_type": "markdown",
      "source": [
        "5"
      ],
      "metadata": {
        "id": "DW39lKnPcOCC"
      }
    },
    {
      "cell_type": "code",
      "source": [
        "for number in range(1, 11):\n",
        "    if number % 2 == 0 and number % 5 == 0:\n",
        "        print(\"FizzBuzz\")\n",
        "    elif number % 2 == 0:\n",
        "        print(\"Fizz\")\n",
        "    elif number % 5 == 0:\n",
        "        print(\"Buzz\")\n",
        "    else:\n",
        "        print(number)\n"
      ],
      "metadata": {
        "colab": {
          "base_uri": "https://localhost:8080/"
        },
        "id": "bdKPSiCJcPCq",
        "outputId": "7e5e794c-f045-4e98-b42a-d0b2408b351f"
      },
      "execution_count": null,
      "outputs": [
        {
          "output_type": "stream",
          "name": "stdout",
          "text": [
            "1\n",
            "Fizz\n",
            "3\n",
            "Fizz\n",
            "Buzz\n",
            "Fizz\n",
            "7\n",
            "Fizz\n",
            "9\n",
            "FizzBuzz\n"
          ]
        }
      ]
    },
    {
      "cell_type": "markdown",
      "source": [
        "6"
      ],
      "metadata": {
        "id": "KYqreVzzcXCq"
      }
    },
    {
      "cell_type": "code",
      "source": [
        "numbers = [int(num) for num in input(\"Enter numbers separated by commas: \").split(',')]\n",
        "\n",
        "print(\"List of numbers:\", numbers)\n",
        "\n",
        "most_frequent = max(set(numbers), key=numbers.count)\n",
        "\n",
        "print(f\"The most frequent item is: {most_frequent}\")"
      ],
      "metadata": {
        "colab": {
          "base_uri": "https://localhost:8080/"
        },
        "id": "c20wA-BdcYTK",
        "outputId": "ae49ab51-c85a-418c-e3b2-b254bbddd52b"
      },
      "execution_count": null,
      "outputs": [
        {
          "output_type": "stream",
          "name": "stdout",
          "text": [
            "Enter numbers separated by commas: 2,3,4,2,5,2\n",
            "List of numbers: [2, 3, 4, 2, 5, 2]\n",
            "The most frequent item is: 2\n"
          ]
        }
      ]
    },
    {
      "cell_type": "markdown",
      "source": [
        "7"
      ],
      "metadata": {
        "id": "cudbX_aMdrHz"
      }
    },
    {
      "cell_type": "code",
      "source": [
        "numbers = [int(num) for num in input(\"Enter numbers separated by commas: \").split(',')]\n",
        "\n",
        "print(\"List of numbers:\", numbers)\n",
        "sum_of_squares = sum(x**2 for x in numbers)\n",
        "\n",
        "\n",
        "print(f\"The sum of squares is: {sum_of_squares}\")"
      ],
      "metadata": {
        "colab": {
          "base_uri": "https://localhost:8080/"
        },
        "id": "_UiT6M4MdrpL",
        "outputId": "e2882179-edc3-45e2-ef8e-1848c415df79"
      },
      "execution_count": null,
      "outputs": [
        {
          "output_type": "stream",
          "name": "stdout",
          "text": [
            "Enter numbers separated by commas: 2,1,3,1\n",
            "List of numbers: [2, 1, 3, 1]\n",
            "The sum of squares is: 15\n"
          ]
        }
      ]
    },
    {
      "cell_type": "markdown",
      "source": [
        "8"
      ],
      "metadata": {
        "id": "9mgeqveyeFxj"
      }
    },
    {
      "cell_type": "code",
      "source": [
        "for number in range(1, 16):\n",
        "    # Checking if the current number is odd or even\n",
        "    if number % 2 == 0:\n",
        "        print(f\"{number} is even\")\n",
        "    else:\n",
        "        print(f\"{number} is odd\")"
      ],
      "metadata": {
        "colab": {
          "base_uri": "https://localhost:8080/"
        },
        "id": "x0hRArUveGh1",
        "outputId": "18b566fa-baf9-422d-b9e9-5a4a02295868"
      },
      "execution_count": null,
      "outputs": [
        {
          "output_type": "stream",
          "name": "stdout",
          "text": [
            "1 is odd\n",
            "2 is even\n",
            "3 is odd\n",
            "4 is even\n",
            "5 is odd\n",
            "6 is even\n",
            "7 is odd\n",
            "8 is even\n",
            "9 is odd\n",
            "10 is even\n",
            "11 is odd\n",
            "12 is even\n",
            "13 is odd\n",
            "14 is even\n",
            "15 is odd\n"
          ]
        }
      ]
    },
    {
      "cell_type": "markdown",
      "source": [
        "9"
      ],
      "metadata": {
        "id": "wCi03EjueYzy"
      }
    },
    {
      "cell_type": "code",
      "source": [
        "def celsius_to_fahrenheit(celsius):\n",
        "    return (celsius * 9/5) + 32\n",
        "\n",
        "def fahrenheit_to_celsius(fahrenheit):\n",
        "    return (fahrenheit - 32) * 5/9\n",
        "\n",
        "\n",
        "fahrenheit = float(input(\"Enter temperature in Fahrenheit: \"))\n",
        "print(f\"{fahrenheit} degrees Fahrenheit is equal to {fahrenheit_to_celsius(fahrenheit):.2f} degrees Celsius\")"
      ],
      "metadata": {
        "colab": {
          "base_uri": "https://localhost:8080/"
        },
        "id": "2HL9ubGFiyrS",
        "outputId": "52cdbd97-b361-4f3b-f7a5-73a136602c7a"
      },
      "execution_count": null,
      "outputs": [
        {
          "output_type": "stream",
          "name": "stdout",
          "text": [
            "Enter temperature in Fahrenheit: 41\n",
            "41.0 degrees Fahrenheit is equal to 5.00 degrees Celsius\n"
          ]
        }
      ]
    },
    {
      "cell_type": "markdown",
      "source": [
        "10"
      ],
      "metadata": {
        "id": "MULbKB2tjEXd"
      }
    },
    {
      "cell_type": "code",
      "source": [
        "def factorial(n):\n",
        "    if n == 0 or n == 1:\n",
        "        return 1\n",
        "    else:\n",
        "        return n * factorial(n - 1)\n",
        "\n",
        "number = int(input(\"Enter a non negative integer: \"))\n",
        "result = factorial(number)\n",
        "print(f\"The factorial of {number} is: {result}\")"
      ],
      "metadata": {
        "colab": {
          "base_uri": "https://localhost:8080/"
        },
        "id": "OAByEivfjFj7",
        "outputId": "4fd1c7db-ce95-4b98-ac02-1a955530f647"
      },
      "execution_count": null,
      "outputs": [
        {
          "output_type": "stream",
          "name": "stdout",
          "text": [
            "Enter a non negative integer: 3\n",
            "The factorial of 3 is: 6\n"
          ]
        }
      ]
    }
  ]
}