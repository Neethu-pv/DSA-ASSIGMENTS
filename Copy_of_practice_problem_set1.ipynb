{
  "nbformat": 4,
  "nbformat_minor": 0,
  "metadata": {
    "colab": {
      "provenance": []
    },
    "kernelspec": {
      "name": "python3",
      "display_name": "Python 3"
    },
    "language_info": {
      "name": "python"
    }
  },
  "cells": [
    {
      "cell_type": "code",
      "execution_count": null,
      "metadata": {
        "id": "Q5bvSemu8aCh"
      },
      "outputs": [],
      "source": []
    },
    {
      "cell_type": "markdown",
      "source": [
        "PRACTICE PROBLEMS-SET1"
      ],
      "metadata": {
        "id": "qPldAT9G8h5I"
      }
    },
    {
      "cell_type": "code",
      "source": [],
      "metadata": {
        "id": "V6lrYzVC8mPm"
      },
      "execution_count": null,
      "outputs": []
    },
    {
      "cell_type": "markdown",
      "source": [
        "1"
      ],
      "metadata": {
        "id": "xdgnypdx8nJ-"
      }
    },
    {
      "cell_type": "code",
      "source": [
        "import math\n",
        "radius = float(input(\"Enter the radius: \"))\n",
        "area = math.pi * (radius ** 2)\n",
        "print(f\"Area of Circle is \",area)\n"
      ],
      "metadata": {
        "colab": {
          "base_uri": "https://localhost:8080/"
        },
        "id": "210Zk7tz8pE_",
        "outputId": "3cdd2755-df9e-419c-d0a9-4738ed632cd4"
      },
      "execution_count": null,
      "outputs": [
        {
          "output_type": "stream",
          "name": "stdout",
          "text": [
            "Enter the radius: 3\n",
            "Area of Circle is  28.274333882308138\n"
          ]
        }
      ]
    },
    {
      "cell_type": "markdown",
      "source": [
        "2"
      ],
      "metadata": {
        "id": "7Iynrxx79A7N"
      }
    },
    {
      "cell_type": "code",
      "source": [
        "name = input(\"Enter the name: \")\n",
        "roll_number = input(\"Enter the roll number: \")\n",
        "\n",
        "mark = float(input(\"Enter the mark: \"))\n",
        "\n",
        "# Displaying the details\n",
        "print(\"Name:\", name)\n",
        "print(\"Roll No:\", roll_number)\n",
        "print(\"Mark:\", mark)\n"
      ],
      "metadata": {
        "colab": {
          "base_uri": "https://localhost:8080/"
        },
        "id": "mGkeSB389B_U",
        "outputId": "89ba83cb-ea96-428f-efc5-43ad6178b923"
      },
      "execution_count": null,
      "outputs": [
        {
          "output_type": "stream",
          "name": "stdout",
          "text": [
            "Enter the name: Anisha\n",
            "Enter the roll number: 21\n",
            "Enter the mark: 78\n",
            "Name: Anisha\n",
            "Roll No: 21\n",
            "Mark: 78.0\n"
          ]
        }
      ]
    },
    {
      "cell_type": "markdown",
      "source": [
        "3"
      ],
      "metadata": {
        "id": "KAQTr3Sc9qwL"
      }
    },
    {
      "cell_type": "code",
      "source": [
        "numbers = input(\"Enter the numbers : \").split(',')\n",
        "largest_number=max(map(int, numbers))\n",
        "print(f\"{largest_number} is the largest number.\")"
      ],
      "metadata": {
        "colab": {
          "base_uri": "https://localhost:8080/"
        },
        "id": "mTGl-oGv9r_q",
        "outputId": "ca8249d4-fc31-417f-ddd0-31c0ad6925eb"
      },
      "execution_count": null,
      "outputs": [
        {
          "output_type": "stream",
          "name": "stdout",
          "text": [
            "Enter the numbers : 12,3,47,10\n",
            "47 is the largest number.\n"
          ]
        }
      ]
    },
    {
      "cell_type": "code",
      "source": [],
      "metadata": {
        "id": "PScbA5QYAOTw"
      },
      "execution_count": null,
      "outputs": []
    },
    {
      "cell_type": "markdown",
      "source": [
        "4"
      ],
      "metadata": {
        "id": "OocPok50Aod_"
      }
    },
    {
      "cell_type": "code",
      "source": [
        "previous_number = 0\n",
        "for current_number in range(1, 11):\n",
        "    current_sum = current_number + previous_number\n",
        "    print(f\"Current Number {current_number} Previous Number {previous_number} Sum: {current_sum}\")\n",
        "    previous_number = current_number"
      ],
      "metadata": {
        "colab": {
          "base_uri": "https://localhost:8080/"
        },
        "id": "T-1kVD6CBZ0H",
        "outputId": "cb887c92-d988-4be5-9f97-9d9ea36a1ad6"
      },
      "execution_count": null,
      "outputs": [
        {
          "output_type": "stream",
          "name": "stdout",
          "text": [
            "Current Number 1 Previous Number 0 Sum: 1\n",
            "Current Number 2 Previous Number 1 Sum: 3\n",
            "Current Number 3 Previous Number 2 Sum: 5\n",
            "Current Number 4 Previous Number 3 Sum: 7\n",
            "Current Number 5 Previous Number 4 Sum: 9\n",
            "Current Number 6 Previous Number 5 Sum: 11\n",
            "Current Number 7 Previous Number 6 Sum: 13\n",
            "Current Number 8 Previous Number 7 Sum: 15\n",
            "Current Number 9 Previous Number 8 Sum: 17\n",
            "Current Number 10 Previous Number 9 Sum: 19\n"
          ]
        }
      ]
    },
    {
      "cell_type": "markdown",
      "source": [
        "5"
      ],
      "metadata": {
        "id": "kJrMYLsKBh1n"
      }
    },
    {
      "cell_type": "code",
      "source": [
        "numbers=[int(num) for num in input(\"Enter numbers separated by commas: \").split(',')]\n",
        "for num in numbers:\n",
        "    if num % 5 == 0:\n",
        "        print(num)"
      ],
      "metadata": {
        "colab": {
          "base_uri": "https://localhost:8080/"
        },
        "id": "bClIstvjBi0W",
        "outputId": "7bd17314-5dca-4299-de7e-6c0cdaddbeab"
      },
      "execution_count": null,
      "outputs": [
        {
          "output_type": "stream",
          "name": "stdout",
          "text": [
            "Enter numbers separated by commas: 10,20,33,46,55\n",
            "10\n",
            "20\n",
            "55\n"
          ]
        }
      ]
    },
    {
      "cell_type": "markdown",
      "source": [
        "6"
      ],
      "metadata": {
        "id": "VmsNYot2FUDA"
      }
    },
    {
      "cell_type": "code",
      "source": [
        "num = int(input(\"Enter the number: \"))\n",
        "if num > 1:\n",
        "    for i in range(2, int(num**0.5) + 1):\n",
        "        if num % i == 0:\n",
        "            print(f\"{num} is not a prime number\")\n",
        "            break\n",
        "    else:\n",
        "        print(f\"{num} is a prime number\")\n",
        "else:\n",
        "    print(f\"{num} is not a prime number\")"
      ],
      "metadata": {
        "colab": {
          "base_uri": "https://localhost:8080/"
        },
        "id": "kA2k_5IWFVCg",
        "outputId": "aa24e7c9-56fc-4a29-8e38-26fed680036c"
      },
      "execution_count": null,
      "outputs": [
        {
          "output_type": "stream",
          "name": "stdout",
          "text": [
            "Enter the number: 3\n",
            "3 is a prime number\n"
          ]
        }
      ]
    },
    {
      "cell_type": "markdown",
      "source": [
        "7"
      ],
      "metadata": {
        "id": "_hgH_kWMFdc8"
      }
    },
    {
      "cell_type": "code",
      "source": [
        "numbers = [int(x) for x in input(\"Enter numbers separated by commas: \").split(',')]\n",
        "reversed_numbers =[]\n",
        "\n",
        "\n",
        "for i in range(len(numbers) - 1, -1, -1):\n",
        "    reversed_numbers.append(numbers[i])\n",
        "print(\"Reversed list:\", reversed_numbers)"
      ],
      "metadata": {
        "colab": {
          "base_uri": "https://localhost:8080/"
        },
        "id": "PJhOI-7cG-68",
        "outputId": "fba84d0b-512d-4367-8edf-ca2fe6ba39c1"
      },
      "execution_count": null,
      "outputs": [
        {
          "output_type": "stream",
          "name": "stdout",
          "text": [
            "Enter numbers separated by commas: 10,40,30,70\n",
            "Reversed list: [70, 30, 40, 10]\n"
          ]
        }
      ]
    },
    {
      "cell_type": "markdown",
      "source": [
        "8"
      ],
      "metadata": {
        "id": "t-KMCtMXVrR7"
      }
    },
    {
      "cell_type": "code",
      "source": [
        "rows = 4\n",
        "for i in range(1, rows + 1):\n",
        "    print('*' * i)"
      ],
      "metadata": {
        "colab": {
          "base_uri": "https://localhost:8080/"
        },
        "id": "Em2hivc5Vso8",
        "outputId": "c35efb90-d497-446d-e44e-b1a8b1a3a484"
      },
      "execution_count": null,
      "outputs": [
        {
          "output_type": "stream",
          "name": "stdout",
          "text": [
            "*\n",
            "**\n",
            "***\n",
            "****\n"
          ]
        }
      ]
    },
    {
      "cell_type": "markdown",
      "source": [
        "9"
      ],
      "metadata": {
        "id": "7DIlIOoaWSmL"
      }
    },
    {
      "cell_type": "code",
      "source": [
        "input_numbers = input(\"Enter  numbers separated by commas: \")\n",
        "numbers_list = input_numbers.split(',')\n",
        "n1, n2, n3 = map(float, numbers_list)\n",
        "print(\"The maximum of the three numbers is:\", max(n1, n2, n3))\n"
      ],
      "metadata": {
        "colab": {
          "base_uri": "https://localhost:8080/"
        },
        "id": "96kIP_w_YISr",
        "outputId": "b56edeb8-9045-4169-c430-fb0d82b1771e"
      },
      "execution_count": null,
      "outputs": [
        {
          "output_type": "stream",
          "name": "stdout",
          "text": [
            "Enter  numbers separated by commas: 34,12,7\n",
            "The maximum of the three numbers is: 34.0\n"
          ]
        }
      ]
    },
    {
      "cell_type": "markdown",
      "source": [
        "10\n"
      ],
      "metadata": {
        "id": "lZpAmzv4Yboe"
      }
    },
    {
      "cell_type": "code",
      "source": [
        "rows=5\n",
        "for i in range(rows):\n",
        "    print('*' * (i + 1))\n",
        "\n",
        "\n",
        "for i in range(rows - 1, 0, -1):\n",
        "    print('*' * i)"
      ],
      "metadata": {
        "colab": {
          "base_uri": "https://localhost:8080/"
        },
        "id": "LzFCumPyY52p",
        "outputId": "cbc91e39-03ef-4732-c47e-92c5cb22f64b"
      },
      "execution_count": null,
      "outputs": [
        {
          "output_type": "stream",
          "name": "stdout",
          "text": [
            "*\n",
            "**\n",
            "***\n",
            "****\n",
            "*****\n",
            "****\n",
            "***\n",
            "**\n",
            "*\n"
          ]
        }
      ]
    }
  ]
}